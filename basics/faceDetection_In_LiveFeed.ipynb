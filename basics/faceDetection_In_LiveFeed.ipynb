{
 "cells": [
  {
   "cell_type": "code",
   "execution_count": 6,
   "id": "8d08fe41-ffeb-46ad-9b92-1364e361cfda",
   "metadata": {},
   "outputs": [],
   "source": [
    "import cv2\n",
    "import matplotlib.pyplot as plt"
   ]
  },
  {
   "cell_type": "code",
   "execution_count": 7,
   "id": "9c4c9069-40ac-48a5-a52a-7180a058fc12",
   "metadata": {},
   "outputs": [],
   "source": [
    "cam=cv2.VideoCapture(0)"
   ]
  },
  {
   "cell_type": "code",
   "execution_count": 8,
   "id": "b903a3a0-c331-4fa6-a18b-adba8b3e16e9",
   "metadata": {},
   "outputs": [],
   "source": [
    "model=cv2.CascadeClassifier(\"haarcascade_frontalface_alt.xml\")"
   ]
  },
  {
   "cell_type": "code",
   "execution_count": 9,
   "id": "5cfe41d1-0747-487c-80eb-65ed57b9e214",
   "metadata": {},
   "outputs": [],
   "source": [
    "while True:\n",
    "    success,img=cam.read()\n",
    "    faces=model.detectMultiScale(img,1.3,5)\n",
    "    for f in faces:\n",
    "        # print(f)   # x ,y , height ,width , for the corner axis just add h and w (x+w,y+h)\n",
    "        x,y,w,h=f\n",
    "        cv2.rectangle(img,(x,y),(x+w,y+h),(0,255,0),2)\n",
    "    # plt.imshow(img)\n",
    "    \n",
    "    if not success:\n",
    "        print(\"Reading Camera Failed\")\n",
    "    cv2.imshow(\"Image Window\",img)\n",
    "    key=cv2.waitKey(1)\n",
    "    if key==ord('q'):\n",
    "        break\n",
    "# release the camera and destroy the window\n",
    "cam.release()\n",
    "cv2.destroyAllWindows()"
   ]
  },
  {
   "cell_type": "code",
   "execution_count": null,
   "id": "bf0fe9cd-6fc3-48fd-ad0c-a629c8234011",
   "metadata": {},
   "outputs": [],
   "source": []
  }
 ],
 "metadata": {
  "kernelspec": {
   "display_name": "Python 3 (ipykernel)",
   "language": "python",
   "name": "python3"
  },
  "language_info": {
   "codemirror_mode": {
    "name": "ipython",
    "version": 3
   },
   "file_extension": ".py",
   "mimetype": "text/x-python",
   "name": "python",
   "nbconvert_exporter": "python",
   "pygments_lexer": "ipython3",
   "version": "3.11.0"
  }
 },
 "nbformat": 4,
 "nbformat_minor": 5
}
