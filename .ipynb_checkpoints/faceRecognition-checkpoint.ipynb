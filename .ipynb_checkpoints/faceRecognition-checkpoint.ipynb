{
 "cells": [
  {
   "cell_type": "code",
   "execution_count": 7,
   "id": "b99068b1-0ce9-48f5-88b3-85fa889def86",
   "metadata": {},
   "outputs": [],
   "source": [
    "import cv2\n",
    "import numpy as np\n",
    "import os"
   ]
  },
  {
   "cell_type": "code",
   "execution_count": 8,
   "id": "f6d710ac-22c3-4baa-b686-8f24e70d874e",
   "metadata": {},
   "outputs": [],
   "source": [
    "dataset_path=\"./data/\"\n",
    "faceData=[]\n",
    "labels=[]\n",
    "nameMap={}\n",
    "classId=0\n",
    "offset=20"
   ]
  },
  {
   "cell_type": "code",
   "execution_count": 9,
   "id": "94e7b8e2-ddc9-49ae-857c-3ffb3e7e4f79",
   "metadata": {},
   "outputs": [
    {
     "name": "stdout",
     "output_type": "stream",
     "text": [
      "Gaurav.npy (21, 30000)\n"
     ]
    }
   ],
   "source": [
    "for f in os.listdir(dataset_path):\n",
    "    if f.endswith(\".npy\"):\n",
    "        nameMap[classId]=f[:-4]\n",
    "        # X- values\n",
    "        dataItem=np.load(dataset_path+f)\n",
    "        m=dataItem.shape[0]\n",
    "        print(f, dataItem.shape)\n",
    "        faceData.append(dataItem)\n",
    "        # Y- values\n",
    "        target=classId* np.ones((m,))\n",
    "        classId+=1\n",
    "        labels.append(target)\n",
    "\n",
    "\n",
    "XT=np.concatenate(faceData,axis=0)\n",
    "yT=np.concatenate(labels,axis=0).reshape((-1,1))\n",
    "\n",
    "# print(XT.shape)\n",
    "# print(yT.shape)\n",
    "# print(nameMap)"
   ]
  },
  {
   "cell_type": "code",
   "execution_count": 10,
   "id": "c009bb57-a427-4748-94bb-93bd4eb869ea",
   "metadata": {},
   "outputs": [],
   "source": [
    "def dist(p,q):\n",
    "    return np.sqrt(np.sum((p - q)**2))\n",
    "\n",
    "def knn(X,y,xt,k=5):\n",
    "\n",
    "    m = X.shape[0]\n",
    "    dlist = []\n",
    "\n",
    "    for i in range(m):\n",
    "        d = dist(X[i],xt)\n",
    "        dlist.append((d,int(y[i])))\n",
    "\n",
    "    dlist = sorted(dlist)\n",
    "    dlist = np.array(dlist[:k])\n",
    "    labels = dlist[:,1]\n",
    "\n",
    "    labels, cnts = np.unique(labels,return_counts=True)\n",
    "    idx = cnts.argmax()\n",
    "    pred = labels[idx]\n",
    "\n",
    "    return int(pred)"
   ]
  },
  {
   "cell_type": "code",
   "execution_count": 11,
   "id": "931c80b0-dc8c-4daf-99da-aef5c9901f16",
   "metadata": {},
   "outputs": [],
   "source": [
    "# Predictions\n",
    "\n",
    "cam=cv2.VideoCapture(0)\n",
    "\n",
    "model = cv2.CascadeClassifier('haarcascade_frontalface_alt.xml')"
   ]
  },
  {
   "cell_type": "code",
   "execution_count": 12,
   "id": "21eabda3-e808-4323-ba82-b46fcbbd1673",
   "metadata": {},
   "outputs": [
    {
     "name": "stderr",
     "output_type": "stream",
     "text": [
      "C:\\Users\\Offic\\AppData\\Local\\Temp\\ipykernel_25500\\2550623409.py:11: DeprecationWarning: Conversion of an array with ndim > 0 to a scalar is deprecated, and will error in future. Ensure you extract a single element from your array before performing this operation. (Deprecated NumPy 1.25.)\n",
      "  dlist.append((d,int(y[i])))\n"
     ]
    }
   ],
   "source": [
    "#  Read image from camera Object\n",
    "while True:\n",
    "    success,img=cam.read()\n",
    "    if not success:\n",
    "        print(\"Reading Camera Failed\")\n",
    "    \n",
    "    faces = model.detectMultiScale(img, 1.3, 5)\n",
    "    # render a box around each face and predicts its name\n",
    "    for f in faces:\n",
    "        f=faces[-1]\n",
    "        x,y,w,h=f\n",
    "        cv2.rectangle(img,(x,y),(x+w,y+h),(0,255,0),2)\n",
    "    \n",
    "        cropped_face=img[y-offset:y+h+offset,x-offset:x+w+offset]\n",
    "        cropped_face=cv2.resize(cropped_face,(100,100))\n",
    "        \n",
    "\n",
    "        # predict the name using KNN\n",
    "        classPredicted=knn(XT,yT,cropped_face.flatten())\n",
    "        # Name\n",
    "        namePredicted=nameMap[classPredicted]\n",
    "        cv2.putText(img,namePredicted,(x,y-10),cv2.FONT_HERSHEY_SIMPLEX,1,(255,0,0),2,cv2.LINE_AA)\n",
    "        cv2.rectangle(img,(x,y),(x+w,y+h),(0,25,0),2)\n",
    "    cv2.imshow(\"Prediction Window\",img)\n",
    "    key=cv2.waitKey(1) \n",
    "    if key==ord('q'):\n",
    "        break\n",
    "\n",
    "# release the camera and destroy the window\n",
    "cam.release()\n",
    "cv2.destroyAllWindows()"
   ]
  },
  {
   "cell_type": "code",
   "execution_count": null,
   "id": "7e8eaf70-9d37-47b4-a33d-26232ce16b8b",
   "metadata": {},
   "outputs": [],
   "source": []
  },
  {
   "cell_type": "code",
   "execution_count": null,
   "id": "49187ed1-e2b6-46ca-8624-ff97b4dbd930",
   "metadata": {},
   "outputs": [],
   "source": []
  },
  {
   "cell_type": "code",
   "execution_count": null,
   "id": "c01fd10d-eeb0-46ba-a560-dfc0c9e06d87",
   "metadata": {},
   "outputs": [],
   "source": []
  },
  {
   "cell_type": "code",
   "execution_count": null,
   "id": "58602d43-3f74-4802-add8-90bf40f9fcf4",
   "metadata": {},
   "outputs": [],
   "source": []
  }
 ],
 "metadata": {
  "kernelspec": {
   "display_name": "Python 3 (ipykernel)",
   "language": "python",
   "name": "python3"
  },
  "language_info": {
   "codemirror_mode": {
    "name": "ipython",
    "version": 3
   },
   "file_extension": ".py",
   "mimetype": "text/x-python",
   "name": "python",
   "nbconvert_exporter": "python",
   "pygments_lexer": "ipython3",
   "version": "3.11.0"
  }
 },
 "nbformat": 4,
 "nbformat_minor": 5
}
