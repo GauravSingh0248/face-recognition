{
 "cells": [
  {
   "cell_type": "code",
   "execution_count": 1,
   "id": "ee94a391-a296-4830-a662-c1486e70f5fc",
   "metadata": {},
   "outputs": [],
   "source": [
    "# Read a video from web cam using Open CV\n",
    "#face  Detection in Video \n",
    "#click 20 pictures of the person who comes in the front of camera and save them as numpy"
   ]
  },
  {
   "cell_type": "code",
   "execution_count": 2,
   "id": "477dcffb-49be-46da-b76e-4a53a6285b94",
   "metadata": {},
   "outputs": [],
   "source": [
    "import cv2\n",
    "import numpy as np"
   ]
  },
  {
   "cell_type": "code",
   "execution_count": 3,
   "id": "1ca3012f-17a2-407c-82ed-1607b24df155",
   "metadata": {},
   "outputs": [],
   "source": [
    "#Create Camera Object\n",
    "cam=cv2.VideoCapture(0)"
   ]
  },
  {
   "cell_type": "code",
   "execution_count": 4,
   "id": "143acabc-beee-4761-98d6-fab10983a137",
   "metadata": {},
   "outputs": [
    {
     "name": "stdin",
     "output_type": "stream",
     "text": [
      "Enter the name of the person : Anvika Negi\n"
     ]
    }
   ],
   "source": [
    "# Ask the user name \n",
    "fileName=input(\"Enter the name of the person :\")"
   ]
  },
  {
   "cell_type": "code",
   "execution_count": 5,
   "id": "4aa29a61-a424-405c-ad92-fe196eb2e878",
   "metadata": {},
   "outputs": [],
   "source": [
    "dataset_path=\"./data/\"\n",
    "offset=20"
   ]
  },
  {
   "cell_type": "code",
   "execution_count": 6,
   "id": "18de4ead-c9a2-4f36-a3ee-8468e887656d",
   "metadata": {},
   "outputs": [],
   "source": [
    "# Model \n",
    "model = cv2.CascadeClassifier('haarcascade_frontalface_alt.xml')"
   ]
  },
  {
   "cell_type": "code",
   "execution_count": 7,
   "id": "b149ae44-d2d8-410b-bd33-49cd7b875f3f",
   "metadata": {},
   "outputs": [],
   "source": [
    "# create a list of save face data\n",
    "faceData=[]\n",
    "skip=0"
   ]
  },
  {
   "cell_type": "code",
   "execution_count": 8,
   "id": "044e34d9-1ce5-426d-b5be-8b0d53635c7c",
   "metadata": {},
   "outputs": [
    {
     "name": "stdout",
     "output_type": "stream",
     "text": [
      "Saved so far1\n",
      "Saved so far2\n",
      "Saved so far3\n",
      "Saved so far4\n",
      "Saved so far5\n",
      "Saved so far6\n",
      "Saved so far7\n",
      "Saved so far8\n",
      "Saved so far9\n",
      "Saved so far10\n",
      "Saved so far11\n",
      "Saved so far12\n",
      "Saved so far13\n",
      "Saved so far14\n",
      "Saved so far15\n",
      "Saved so far16\n",
      "Saved so far17\n",
      "Saved so far18\n",
      "Saved so far19\n",
      "Saved so far20\n",
      "Saved so far21\n",
      "Saved so far22\n",
      "Saved so far23\n",
      "Saved so far24\n",
      "Saved so far25\n",
      "Saved so far26\n",
      "Saved so far27\n",
      "Saved so far28\n",
      "Saved so far29\n",
      "Saved so far30\n",
      "Saved so far31\n",
      "Saved so far32\n",
      "Saved so far33\n",
      "Saved so far34\n",
      "(34, 100, 100, 3)\n",
      "(34, 30000)\n",
      "Data Saved Successfully ./data/Anvika Negi.npy\n"
     ]
    }
   ],
   "source": [
    "#  Read image from camera Object\n",
    "while True:\n",
    "    success,img=cam.read()\n",
    "    if not success:\n",
    "        print(\"Reading Camera Failed\")\n",
    "    #store the gray iamge\n",
    "    grayImg = cv2.cvtColor(img, cv2.COLOR_BGR2GRAY)\n",
    "    \n",
    "    faces = model.detectMultiScale(grayImg, 1.3, 5)\n",
    "\n",
    "    if len(faces)>0:\n",
    "        # sorting the face with the largest area \n",
    "        faces=sorted(faces,key=lambda f:f[2]*f[3])\n",
    "        # picking the largest face\n",
    "        f=faces[-1]\n",
    "        x,y,w,h=f\n",
    "        cv2.rectangle(img,(x,y),(x+w,y+h),(0,255,0),2)\n",
    "    \n",
    "        # crop and save the largest face \n",
    "        cropped_face=img[y-offset:y+h+offset,x-offset:x+w+offset]\n",
    "\n",
    "        # resize the image\n",
    "        cropped_face=cv2.resize(cropped_face,(100,100))\n",
    "\n",
    "        skip+=1\n",
    "        if skip%10==0:\n",
    "            faceData.append(cropped_face)\n",
    "            print(\"Saved so far\"+str(len(faceData)))\n",
    "    cv2.imshow(\"Image Window\",img)\n",
    "    # cv2.imshow(\"Cropped Face\",cropped_face)\n",
    "    key=cv2.waitKey(1) # pause here for 1 ms before you read the next image\n",
    "    if key==ord('q'):\n",
    "        break\n",
    "# Write the data on  the disk\n",
    "\n",
    "faceData=np.asarray(faceData)\n",
    "print(faceData.shape)\n",
    "\n",
    "m=faceData.shape[0]\n",
    "faceData=faceData.reshape((m,-1))\n",
    "\n",
    "print(faceData.shape)\n",
    "file_path=dataset_path+fileName+\".npy\"\n",
    "np.save(file_path,faceData)\n",
    "print(\"Data Saved Successfully \"+file_path)\n",
    "\n",
    "# release the camera and destroy the window\n",
    "cam.release()\n",
    "cv2.destroyAllWindows()"
   ]
  },
  {
   "cell_type": "code",
   "execution_count": null,
   "id": "e5a21243-fadb-4c29-b776-76662da3d6a4",
   "metadata": {},
   "outputs": [],
   "source": []
  },
  {
   "cell_type": "code",
   "execution_count": null,
   "id": "4bc7baf1-1834-4b84-b538-aacc569b0747",
   "metadata": {},
   "outputs": [],
   "source": []
  }
 ],
 "metadata": {
  "kernelspec": {
   "display_name": "Python 3 (ipykernel)",
   "language": "python",
   "name": "python3"
  },
  "language_info": {
   "codemirror_mode": {
    "name": "ipython",
    "version": 3
   },
   "file_extension": ".py",
   "mimetype": "text/x-python",
   "name": "python",
   "nbconvert_exporter": "python",
   "pygments_lexer": "ipython3",
   "version": "3.11.0"
  }
 },
 "nbformat": 4,
 "nbformat_minor": 5
}
